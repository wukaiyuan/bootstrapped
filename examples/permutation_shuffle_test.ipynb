{
 "cells": [
  {
   "cell_type": "markdown",
   "metadata": {},
   "source": [
    "# Permutation shuffle test"
   ]
  },
  {
   "cell_type": "code",
   "execution_count": 19,
   "metadata": {},
   "outputs": [],
   "source": [
    "import bootstrapped.permutation as pm\n",
    "import bootstrapped.compare_functions as bs_compare\n",
    "import bootstrapped.stats_functions as bs_stats\n",
    "import numpy as np\n",
    "import scipy.stats"
   ]
  },
  {
   "cell_type": "markdown",
   "metadata": {},
   "source": [
    "## Randomized permutation shuffle test"
   ]
  },
  {
   "cell_type": "code",
   "execution_count": 18,
   "metadata": {},
   "outputs": [
    {
     "name": "stdout",
     "output_type": "stream",
     "text": [
      "0.926379504056\n",
      "0.9365\n",
      "0.847481525976\n",
      "0.8723\n",
      "0.480582225596\n",
      "0.4729\n",
      "0.179363721364\n",
      "0.1748\n",
      "0.754236115318\n",
      "0.7565\n",
      "0.542183037776\n",
      "0.5372\n",
      "0.886620822645\n",
      "0.892\n"
     ]
    }
   ],
   "source": [
    "for i in [2, 4, 8, 16, 32, 64, 128]:\n",
    "    a = np.random.normal(45, size=i)\n",
    "    b = np.random.normal(45, size=i + 2)\n",
    "    print(scipy.stats.ttest_ind(a, b)[1])\n",
    "    print(pm.permutation_test(a, b, bs_stats.mean, \n",
    "                              bs_compare.difference, \n",
    "                              num_iterations=10000))"
   ]
  },
  {
   "cell_type": "code",
   "execution_count": 22,
   "metadata": {},
   "outputs": [
    {
     "name": "stdout",
     "output_type": "stream",
     "text": [
      "0.449164199033\n",
      "0.4061\n",
      "0.090716398161\n",
      "0.0912\n",
      "0.848030017469\n",
      "0.8535\n",
      "0.651473984195\n",
      "0.6389\n",
      "0.543765714478\n",
      "0.5479\n",
      "0.453471186692\n",
      "0.4422\n",
      "0.288116790464\n",
      "0.2854\n"
     ]
    }
   ],
   "source": [
    "for i in [2, 4, 8, 16, 32, 64, 128]:\n",
    "    a = np.random.gamma(45, size=i)\n",
    "    b = np.random.gamma(45, size=i + 2)\n",
    "    print(scipy.stats.ttest_ind(a, b)[1])\n",
    "    print(pm.permutation_test(a, b, bs_stats.mean, \n",
    "                              bs_compare.difference, \n",
    "                              num_iterations=10000))"
   ]
  }
 ],
 "metadata": {
  "bento_stylesheets": {
   "bento/extensions/flow/main.css": true,
   "bento/extensions/theme/main.css": true
  },
  "kernelspec": {
   "display_name": "Python 3",
   "language": "python",
   "name": "python3"
  },
  "language_info": {
   "codemirror_mode": {
    "name": "ipython",
    "version": 3
   },
   "file_extension": ".py",
   "mimetype": "text/x-python",
   "name": "python",
   "nbconvert_exporter": "python",
   "pygments_lexer": "ipython3",
   "version": "3.6.3rc1+"
  }
 },
 "nbformat": 4,
 "nbformat_minor": 2
}
